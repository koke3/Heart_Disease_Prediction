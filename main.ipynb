{
 "cells": [
  {
   "cell_type": "markdown",
   "metadata": {},
   "source": [
    "Attribute Information:\n",
    "\n",
    " ## age\n",
    "## sex\n",
    "## chest pain type (4 values)\n",
    "## resting blood pressure\n",
    "serum cholestoral in mg/dl\n",
    "fasting blood sugar > 120 mg/dl\n",
    "resting electrocardiographic results (values 0,1,2)\n",
    "maximum heart rate achieved\n",
    "exercise induced angina\n",
    "oldpeak = ST depression induced by exercise relative to rest\n",
    "the slope of the peak exercise ST segment\n",
    "number of major vessels (0-3) colored by flourosopy\n",
    "thal: 0 = normal; 1 = fixed defect; 2 = reversable defect"
   ]
  },
  {
   "cell_type": "code",
   "execution_count": 240,
   "metadata": {},
   "outputs": [],
   "source": [
    "import pandas as pd\n",
    "import numpy as np\n",
    "from pycaret.classification import*\n",
    "from sklearn.metrics import accuracy_score,classification_report,confusion_matrix\n",
    "from sklearn.model_selection import train_test_split\n",
    "from imblearn.over_sampling import SMOTE\n"
   ]
  },
  {
   "cell_type": "code",
   "execution_count": 241,
   "metadata": {},
   "outputs": [],
   "source": [
    "df=pd.read_csv('heart.csv',encoding='windows-1252')"
   ]
  },
  {
   "cell_type": "code",
   "execution_count": 242,
   "metadata": {},
   "outputs": [
    {
     "data": {
      "text/html": [
       "<div>\n",
       "<style scoped>\n",
       "    .dataframe tbody tr th:only-of-type {\n",
       "        vertical-align: middle;\n",
       "    }\n",
       "\n",
       "    .dataframe tbody tr th {\n",
       "        vertical-align: top;\n",
       "    }\n",
       "\n",
       "    .dataframe thead th {\n",
       "        text-align: right;\n",
       "    }\n",
       "</style>\n",
       "<table border=\"1\" class=\"dataframe\">\n",
       "  <thead>\n",
       "    <tr style=\"text-align: right;\">\n",
       "      <th></th>\n",
       "      <th>age</th>\n",
       "      <th>sex</th>\n",
       "      <th>cp</th>\n",
       "      <th>trestbps</th>\n",
       "      <th>chol</th>\n",
       "      <th>fbs</th>\n",
       "      <th>restecg</th>\n",
       "      <th>thalach</th>\n",
       "      <th>exang</th>\n",
       "      <th>oldpeak</th>\n",
       "      <th>slope</th>\n",
       "      <th>ca</th>\n",
       "      <th>thal</th>\n",
       "      <th>target</th>\n",
       "    </tr>\n",
       "  </thead>\n",
       "  <tbody>\n",
       "    <tr>\n",
       "      <th>0</th>\n",
       "      <td>52</td>\n",
       "      <td>1</td>\n",
       "      <td>0</td>\n",
       "      <td>125</td>\n",
       "      <td>212</td>\n",
       "      <td>0</td>\n",
       "      <td>1</td>\n",
       "      <td>168</td>\n",
       "      <td>0</td>\n",
       "      <td>1.0</td>\n",
       "      <td>2</td>\n",
       "      <td>2</td>\n",
       "      <td>3</td>\n",
       "      <td>0</td>\n",
       "    </tr>\n",
       "    <tr>\n",
       "      <th>1</th>\n",
       "      <td>53</td>\n",
       "      <td>1</td>\n",
       "      <td>0</td>\n",
       "      <td>140</td>\n",
       "      <td>203</td>\n",
       "      <td>1</td>\n",
       "      <td>0</td>\n",
       "      <td>155</td>\n",
       "      <td>1</td>\n",
       "      <td>3.1</td>\n",
       "      <td>0</td>\n",
       "      <td>0</td>\n",
       "      <td>3</td>\n",
       "      <td>0</td>\n",
       "    </tr>\n",
       "    <tr>\n",
       "      <th>2</th>\n",
       "      <td>70</td>\n",
       "      <td>1</td>\n",
       "      <td>0</td>\n",
       "      <td>145</td>\n",
       "      <td>174</td>\n",
       "      <td>0</td>\n",
       "      <td>1</td>\n",
       "      <td>125</td>\n",
       "      <td>1</td>\n",
       "      <td>2.6</td>\n",
       "      <td>0</td>\n",
       "      <td>0</td>\n",
       "      <td>3</td>\n",
       "      <td>0</td>\n",
       "    </tr>\n",
       "    <tr>\n",
       "      <th>3</th>\n",
       "      <td>61</td>\n",
       "      <td>1</td>\n",
       "      <td>0</td>\n",
       "      <td>148</td>\n",
       "      <td>203</td>\n",
       "      <td>0</td>\n",
       "      <td>1</td>\n",
       "      <td>161</td>\n",
       "      <td>0</td>\n",
       "      <td>0.0</td>\n",
       "      <td>2</td>\n",
       "      <td>1</td>\n",
       "      <td>3</td>\n",
       "      <td>0</td>\n",
       "    </tr>\n",
       "    <tr>\n",
       "      <th>4</th>\n",
       "      <td>62</td>\n",
       "      <td>0</td>\n",
       "      <td>0</td>\n",
       "      <td>138</td>\n",
       "      <td>294</td>\n",
       "      <td>1</td>\n",
       "      <td>1</td>\n",
       "      <td>106</td>\n",
       "      <td>0</td>\n",
       "      <td>1.9</td>\n",
       "      <td>1</td>\n",
       "      <td>3</td>\n",
       "      <td>2</td>\n",
       "      <td>0</td>\n",
       "    </tr>\n",
       "  </tbody>\n",
       "</table>\n",
       "</div>"
      ],
      "text/plain": [
       "   age  sex  cp  trestbps  chol  fbs  restecg  thalach  exang  oldpeak  slope  \\\n",
       "0   52    1   0       125   212    0        1      168      0      1.0      2   \n",
       "1   53    1   0       140   203    1        0      155      1      3.1      0   \n",
       "2   70    1   0       145   174    0        1      125      1      2.6      0   \n",
       "3   61    1   0       148   203    0        1      161      0      0.0      2   \n",
       "4   62    0   0       138   294    1        1      106      0      1.9      1   \n",
       "\n",
       "   ca  thal  target  \n",
       "0   2     3       0  \n",
       "1   0     3       0  \n",
       "2   0     3       0  \n",
       "3   1     3       0  \n",
       "4   3     2       0  "
      ]
     },
     "execution_count": 242,
     "metadata": {},
     "output_type": "execute_result"
    }
   ],
   "source": [
    "df.head()"
   ]
  },
  {
   "cell_type": "markdown",
   "metadata": {},
   "source": [
    "# Clean the Data"
   ]
  },
  {
   "cell_type": "code",
   "execution_count": 243,
   "metadata": {},
   "outputs": [
    {
     "data": {
      "text/plain": [
       "age         0\n",
       "sex         0\n",
       "cp          0\n",
       "trestbps    0\n",
       "chol        0\n",
       "fbs         0\n",
       "restecg     0\n",
       "thalach     0\n",
       "exang       0\n",
       "oldpeak     0\n",
       "slope       0\n",
       "ca          0\n",
       "thal        0\n",
       "target      0\n",
       "dtype: int64"
      ]
     },
     "execution_count": 243,
     "metadata": {},
     "output_type": "execute_result"
    }
   ],
   "source": [
    "df.isna().sum()"
   ]
  },
  {
   "cell_type": "code",
   "execution_count": 244,
   "metadata": {},
   "outputs": [],
   "source": [
    "df.dropna(inplace=True)"
   ]
  },
  {
   "cell_type": "code",
   "execution_count": 245,
   "metadata": {},
   "outputs": [
    {
     "data": {
      "text/plain": [
       "age         0\n",
       "sex         0\n",
       "cp          0\n",
       "trestbps    0\n",
       "chol        0\n",
       "fbs         0\n",
       "restecg     0\n",
       "thalach     0\n",
       "exang       0\n",
       "oldpeak     0\n",
       "slope       0\n",
       "ca          0\n",
       "thal        0\n",
       "target      0\n",
       "dtype: int64"
      ]
     },
     "execution_count": 245,
     "metadata": {},
     "output_type": "execute_result"
    }
   ],
   "source": [
    "df.isna().sum()"
   ]
  },
  {
   "cell_type": "code",
   "execution_count": 246,
   "metadata": {},
   "outputs": [
    {
     "name": "stdout",
     "output_type": "stream",
     "text": [
      "<class 'pandas.core.frame.DataFrame'>\n",
      "RangeIndex: 1025 entries, 0 to 1024\n",
      "Data columns (total 14 columns):\n",
      " #   Column    Non-Null Count  Dtype  \n",
      "---  ------    --------------  -----  \n",
      " 0   age       1025 non-null   int64  \n",
      " 1   sex       1025 non-null   int64  \n",
      " 2   cp        1025 non-null   int64  \n",
      " 3   trestbps  1025 non-null   int64  \n",
      " 4   chol      1025 non-null   int64  \n",
      " 5   fbs       1025 non-null   int64  \n",
      " 6   restecg   1025 non-null   int64  \n",
      " 7   thalach   1025 non-null   int64  \n",
      " 8   exang     1025 non-null   int64  \n",
      " 9   oldpeak   1025 non-null   float64\n",
      " 10  slope     1025 non-null   int64  \n",
      " 11  ca        1025 non-null   int64  \n",
      " 12  thal      1025 non-null   int64  \n",
      " 13  target    1025 non-null   int64  \n",
      "dtypes: float64(1), int64(13)\n",
      "memory usage: 112.2 KB\n"
     ]
    }
   ],
   "source": [
    "df.info()"
   ]
  },
  {
   "cell_type": "code",
   "execution_count": 247,
   "metadata": {},
   "outputs": [],
   "source": [
    "x=df.drop(['target'],axis=1)\n",
    "y=df['target']"
   ]
  },
  {
   "cell_type": "code",
   "execution_count": 248,
   "metadata": {},
   "outputs": [],
   "source": [
    "X_train, X_test, y_train, y_test =train_test_split(x,y,test_size=0.25)"
   ]
  },
  {
   "cell_type": "code",
   "execution_count": 250,
   "metadata": {},
   "outputs": [
    {
     "data": {
      "text/html": [
       "<style type=\"text/css\">\n",
       "#T_3d46a_row8_col1 {\n",
       "  background-color: lightgreen;\n",
       "}\n",
       "</style>\n",
       "<table id=\"T_3d46a\">\n",
       "  <thead>\n",
       "    <tr>\n",
       "      <th class=\"blank level0\" >&nbsp;</th>\n",
       "      <th id=\"T_3d46a_level0_col0\" class=\"col_heading level0 col0\" >Description</th>\n",
       "      <th id=\"T_3d46a_level0_col1\" class=\"col_heading level0 col1\" >Value</th>\n",
       "    </tr>\n",
       "  </thead>\n",
       "  <tbody>\n",
       "    <tr>\n",
       "      <th id=\"T_3d46a_level0_row0\" class=\"row_heading level0 row0\" >0</th>\n",
       "      <td id=\"T_3d46a_row0_col0\" class=\"data row0 col0\" >Session id</td>\n",
       "      <td id=\"T_3d46a_row0_col1\" class=\"data row0 col1\" >4353</td>\n",
       "    </tr>\n",
       "    <tr>\n",
       "      <th id=\"T_3d46a_level0_row1\" class=\"row_heading level0 row1\" >1</th>\n",
       "      <td id=\"T_3d46a_row1_col0\" class=\"data row1 col0\" >Target</td>\n",
       "      <td id=\"T_3d46a_row1_col1\" class=\"data row1 col1\" >target</td>\n",
       "    </tr>\n",
       "    <tr>\n",
       "      <th id=\"T_3d46a_level0_row2\" class=\"row_heading level0 row2\" >2</th>\n",
       "      <td id=\"T_3d46a_row2_col0\" class=\"data row2 col0\" >Target type</td>\n",
       "      <td id=\"T_3d46a_row2_col1\" class=\"data row2 col1\" >Binary</td>\n",
       "    </tr>\n",
       "    <tr>\n",
       "      <th id=\"T_3d46a_level0_row3\" class=\"row_heading level0 row3\" >3</th>\n",
       "      <td id=\"T_3d46a_row3_col0\" class=\"data row3 col0\" >Original data shape</td>\n",
       "      <td id=\"T_3d46a_row3_col1\" class=\"data row3 col1\" >(768, 14)</td>\n",
       "    </tr>\n",
       "    <tr>\n",
       "      <th id=\"T_3d46a_level0_row4\" class=\"row_heading level0 row4\" >4</th>\n",
       "      <td id=\"T_3d46a_row4_col0\" class=\"data row4 col0\" >Transformed data shape</td>\n",
       "      <td id=\"T_3d46a_row4_col1\" class=\"data row4 col1\" >(768, 14)</td>\n",
       "    </tr>\n",
       "    <tr>\n",
       "      <th id=\"T_3d46a_level0_row5\" class=\"row_heading level0 row5\" >5</th>\n",
       "      <td id=\"T_3d46a_row5_col0\" class=\"data row5 col0\" >Transformed train set shape</td>\n",
       "      <td id=\"T_3d46a_row5_col1\" class=\"data row5 col1\" >(537, 14)</td>\n",
       "    </tr>\n",
       "    <tr>\n",
       "      <th id=\"T_3d46a_level0_row6\" class=\"row_heading level0 row6\" >6</th>\n",
       "      <td id=\"T_3d46a_row6_col0\" class=\"data row6 col0\" >Transformed test set shape</td>\n",
       "      <td id=\"T_3d46a_row6_col1\" class=\"data row6 col1\" >(231, 14)</td>\n",
       "    </tr>\n",
       "    <tr>\n",
       "      <th id=\"T_3d46a_level0_row7\" class=\"row_heading level0 row7\" >7</th>\n",
       "      <td id=\"T_3d46a_row7_col0\" class=\"data row7 col0\" >Numeric features</td>\n",
       "      <td id=\"T_3d46a_row7_col1\" class=\"data row7 col1\" >13</td>\n",
       "    </tr>\n",
       "    <tr>\n",
       "      <th id=\"T_3d46a_level0_row8\" class=\"row_heading level0 row8\" >8</th>\n",
       "      <td id=\"T_3d46a_row8_col0\" class=\"data row8 col0\" >Preprocess</td>\n",
       "      <td id=\"T_3d46a_row8_col1\" class=\"data row8 col1\" >True</td>\n",
       "    </tr>\n",
       "    <tr>\n",
       "      <th id=\"T_3d46a_level0_row9\" class=\"row_heading level0 row9\" >9</th>\n",
       "      <td id=\"T_3d46a_row9_col0\" class=\"data row9 col0\" >Imputation type</td>\n",
       "      <td id=\"T_3d46a_row9_col1\" class=\"data row9 col1\" >simple</td>\n",
       "    </tr>\n",
       "    <tr>\n",
       "      <th id=\"T_3d46a_level0_row10\" class=\"row_heading level0 row10\" >10</th>\n",
       "      <td id=\"T_3d46a_row10_col0\" class=\"data row10 col0\" >Numeric imputation</td>\n",
       "      <td id=\"T_3d46a_row10_col1\" class=\"data row10 col1\" >mean</td>\n",
       "    </tr>\n",
       "    <tr>\n",
       "      <th id=\"T_3d46a_level0_row11\" class=\"row_heading level0 row11\" >11</th>\n",
       "      <td id=\"T_3d46a_row11_col0\" class=\"data row11 col0\" >Categorical imputation</td>\n",
       "      <td id=\"T_3d46a_row11_col1\" class=\"data row11 col1\" >mode</td>\n",
       "    </tr>\n",
       "    <tr>\n",
       "      <th id=\"T_3d46a_level0_row12\" class=\"row_heading level0 row12\" >12</th>\n",
       "      <td id=\"T_3d46a_row12_col0\" class=\"data row12 col0\" >Fold Generator</td>\n",
       "      <td id=\"T_3d46a_row12_col1\" class=\"data row12 col1\" >StratifiedKFold</td>\n",
       "    </tr>\n",
       "    <tr>\n",
       "      <th id=\"T_3d46a_level0_row13\" class=\"row_heading level0 row13\" >13</th>\n",
       "      <td id=\"T_3d46a_row13_col0\" class=\"data row13 col0\" >Fold Number</td>\n",
       "      <td id=\"T_3d46a_row13_col1\" class=\"data row13 col1\" >10</td>\n",
       "    </tr>\n",
       "    <tr>\n",
       "      <th id=\"T_3d46a_level0_row14\" class=\"row_heading level0 row14\" >14</th>\n",
       "      <td id=\"T_3d46a_row14_col0\" class=\"data row14 col0\" >CPU Jobs</td>\n",
       "      <td id=\"T_3d46a_row14_col1\" class=\"data row14 col1\" >-1</td>\n",
       "    </tr>\n",
       "    <tr>\n",
       "      <th id=\"T_3d46a_level0_row15\" class=\"row_heading level0 row15\" >15</th>\n",
       "      <td id=\"T_3d46a_row15_col0\" class=\"data row15 col0\" >Use GPU</td>\n",
       "      <td id=\"T_3d46a_row15_col1\" class=\"data row15 col1\" >False</td>\n",
       "    </tr>\n",
       "    <tr>\n",
       "      <th id=\"T_3d46a_level0_row16\" class=\"row_heading level0 row16\" >16</th>\n",
       "      <td id=\"T_3d46a_row16_col0\" class=\"data row16 col0\" >Log Experiment</td>\n",
       "      <td id=\"T_3d46a_row16_col1\" class=\"data row16 col1\" >False</td>\n",
       "    </tr>\n",
       "    <tr>\n",
       "      <th id=\"T_3d46a_level0_row17\" class=\"row_heading level0 row17\" >17</th>\n",
       "      <td id=\"T_3d46a_row17_col0\" class=\"data row17 col0\" >Experiment Name</td>\n",
       "      <td id=\"T_3d46a_row17_col1\" class=\"data row17 col1\" >clf-default-name</td>\n",
       "    </tr>\n",
       "    <tr>\n",
       "      <th id=\"T_3d46a_level0_row18\" class=\"row_heading level0 row18\" >18</th>\n",
       "      <td id=\"T_3d46a_row18_col0\" class=\"data row18 col0\" >USI</td>\n",
       "      <td id=\"T_3d46a_row18_col1\" class=\"data row18 col1\" >8ca1</td>\n",
       "    </tr>\n",
       "  </tbody>\n",
       "</table>\n"
      ],
      "text/plain": [
       "<pandas.io.formats.style.Styler at 0x2580064cdc0>"
      ]
     },
     "metadata": {},
     "output_type": "display_data"
    }
   ],
   "source": [
    "model =setup(data=X_train,target=y_train)"
   ]
  },
  {
   "cell_type": "code",
   "execution_count": 254,
   "metadata": {},
   "outputs": [
    {
     "data": {
      "text/html": [],
      "text/plain": [
       "<IPython.core.display.HTML object>"
      ]
     },
     "metadata": {},
     "output_type": "display_data"
    },
    {
     "data": {
      "text/html": [
       "<style type=\"text/css\">\n",
       "#T_92475 th {\n",
       "  text-align: left;\n",
       "}\n",
       "#T_92475_row0_col0, #T_92475_row0_col2, #T_92475_row0_col3, #T_92475_row0_col4, #T_92475_row1_col0, #T_92475_row1_col1, #T_92475_row1_col3, #T_92475_row1_col5, #T_92475_row1_col6, #T_92475_row1_col7, #T_92475_row2_col0, #T_92475_row2_col1, #T_92475_row2_col2, #T_92475_row2_col3, #T_92475_row2_col4, #T_92475_row2_col5, #T_92475_row2_col6, #T_92475_row2_col7, #T_92475_row3_col0, #T_92475_row3_col1, #T_92475_row3_col2, #T_92475_row3_col3, #T_92475_row3_col4, #T_92475_row3_col5, #T_92475_row3_col6, #T_92475_row3_col7, #T_92475_row4_col0, #T_92475_row4_col1, #T_92475_row4_col2, #T_92475_row4_col3, #T_92475_row4_col4, #T_92475_row4_col5, #T_92475_row4_col6, #T_92475_row4_col7, #T_92475_row5_col0, #T_92475_row5_col1, #T_92475_row5_col2, #T_92475_row5_col3, #T_92475_row5_col4, #T_92475_row5_col5, #T_92475_row5_col6, #T_92475_row5_col7, #T_92475_row6_col0, #T_92475_row6_col1, #T_92475_row6_col2, #T_92475_row6_col3, #T_92475_row6_col4, #T_92475_row6_col5, #T_92475_row6_col6, #T_92475_row6_col7, #T_92475_row7_col0, #T_92475_row7_col1, #T_92475_row7_col2, #T_92475_row7_col3, #T_92475_row7_col4, #T_92475_row7_col5, #T_92475_row7_col6, #T_92475_row7_col7, #T_92475_row8_col0, #T_92475_row8_col1, #T_92475_row8_col2, #T_92475_row8_col3, #T_92475_row8_col4, #T_92475_row8_col5, #T_92475_row8_col6, #T_92475_row8_col7, #T_92475_row9_col0, #T_92475_row9_col1, #T_92475_row9_col2, #T_92475_row9_col3, #T_92475_row9_col4, #T_92475_row9_col5, #T_92475_row9_col6, #T_92475_row9_col7, #T_92475_row10_col0, #T_92475_row10_col1, #T_92475_row10_col2, #T_92475_row10_col3, #T_92475_row10_col4, #T_92475_row10_col5, #T_92475_row10_col6, #T_92475_row10_col7, #T_92475_row11_col0, #T_92475_row11_col1, #T_92475_row11_col2, #T_92475_row11_col3, #T_92475_row11_col4, #T_92475_row11_col5, #T_92475_row11_col6, #T_92475_row11_col7, #T_92475_row12_col0, #T_92475_row12_col1, #T_92475_row12_col2, #T_92475_row12_col3, #T_92475_row12_col4, #T_92475_row12_col5, #T_92475_row12_col6, #T_92475_row12_col7, #T_92475_row13_col0, #T_92475_row13_col1, #T_92475_row13_col2, #T_92475_row13_col3, #T_92475_row13_col4, #T_92475_row13_col5, #T_92475_row13_col6, #T_92475_row13_col7, #T_92475_row14_col0, #T_92475_row14_col1, #T_92475_row14_col2, #T_92475_row14_col4, #T_92475_row14_col5, #T_92475_row14_col6, #T_92475_row14_col7 {\n",
       "  text-align: left;\n",
       "}\n",
       "#T_92475_row0_col1, #T_92475_row0_col5, #T_92475_row0_col6, #T_92475_row0_col7, #T_92475_row1_col2, #T_92475_row1_col4, #T_92475_row14_col3 {\n",
       "  text-align: left;\n",
       "  background-color: yellow;\n",
       "}\n",
       "#T_92475_row0_col8, #T_92475_row1_col8, #T_92475_row2_col8, #T_92475_row3_col8, #T_92475_row4_col8, #T_92475_row5_col8, #T_92475_row6_col8, #T_92475_row7_col8, #T_92475_row8_col8, #T_92475_row9_col8, #T_92475_row10_col8, #T_92475_row12_col8, #T_92475_row14_col8 {\n",
       "  text-align: left;\n",
       "  background-color: lightgrey;\n",
       "}\n",
       "#T_92475_row11_col8, #T_92475_row13_col8 {\n",
       "  text-align: left;\n",
       "  background-color: yellow;\n",
       "  background-color: lightgrey;\n",
       "}\n",
       "</style>\n",
       "<table id=\"T_92475\">\n",
       "  <thead>\n",
       "    <tr>\n",
       "      <th class=\"blank level0\" >&nbsp;</th>\n",
       "      <th id=\"T_92475_level0_col0\" class=\"col_heading level0 col0\" >Model</th>\n",
       "      <th id=\"T_92475_level0_col1\" class=\"col_heading level0 col1\" >Accuracy</th>\n",
       "      <th id=\"T_92475_level0_col2\" class=\"col_heading level0 col2\" >AUC</th>\n",
       "      <th id=\"T_92475_level0_col3\" class=\"col_heading level0 col3\" >Recall</th>\n",
       "      <th id=\"T_92475_level0_col4\" class=\"col_heading level0 col4\" >Prec.</th>\n",
       "      <th id=\"T_92475_level0_col5\" class=\"col_heading level0 col5\" >F1</th>\n",
       "      <th id=\"T_92475_level0_col6\" class=\"col_heading level0 col6\" >Kappa</th>\n",
       "      <th id=\"T_92475_level0_col7\" class=\"col_heading level0 col7\" >MCC</th>\n",
       "      <th id=\"T_92475_level0_col8\" class=\"col_heading level0 col8\" >TT (Sec)</th>\n",
       "    </tr>\n",
       "  </thead>\n",
       "  <tbody>\n",
       "    <tr>\n",
       "      <th id=\"T_92475_level0_row0\" class=\"row_heading level0 row0\" >rf</th>\n",
       "      <td id=\"T_92475_row0_col0\" class=\"data row0 col0\" >Random Forest Classifier</td>\n",
       "      <td id=\"T_92475_row0_col1\" class=\"data row0 col1\" >0.9462</td>\n",
       "      <td id=\"T_92475_row0_col2\" class=\"data row0 col2\" >0.9901</td>\n",
       "      <td id=\"T_92475_row0_col3\" class=\"data row0 col3\" >0.9617</td>\n",
       "      <td id=\"T_92475_row0_col4\" class=\"data row0 col4\" >0.9414</td>\n",
       "      <td id=\"T_92475_row0_col5\" class=\"data row0 col5\" >0.9502</td>\n",
       "      <td id=\"T_92475_row0_col6\" class=\"data row0 col6\" >0.8916</td>\n",
       "      <td id=\"T_92475_row0_col7\" class=\"data row0 col7\" >0.8946</td>\n",
       "      <td id=\"T_92475_row0_col8\" class=\"data row0 col8\" >0.0240</td>\n",
       "    </tr>\n",
       "    <tr>\n",
       "      <th id=\"T_92475_level0_row1\" class=\"row_heading level0 row1\" >et</th>\n",
       "      <td id=\"T_92475_row1_col0\" class=\"data row1 col0\" >Extra Trees Classifier</td>\n",
       "      <td id=\"T_92475_row1_col1\" class=\"data row1 col1\" >0.9443</td>\n",
       "      <td id=\"T_92475_row1_col2\" class=\"data row1 col2\" >0.9920</td>\n",
       "      <td id=\"T_92475_row1_col3\" class=\"data row1 col3\" >0.9581</td>\n",
       "      <td id=\"T_92475_row1_col4\" class=\"data row1 col4\" >0.9423</td>\n",
       "      <td id=\"T_92475_row1_col5\" class=\"data row1 col5\" >0.9489</td>\n",
       "      <td id=\"T_92475_row1_col6\" class=\"data row1 col6\" >0.8877</td>\n",
       "      <td id=\"T_92475_row1_col7\" class=\"data row1 col7\" >0.8907</td>\n",
       "      <td id=\"T_92475_row1_col8\" class=\"data row1 col8\" >0.0230</td>\n",
       "    </tr>\n",
       "    <tr>\n",
       "      <th id=\"T_92475_level0_row2\" class=\"row_heading level0 row2\" >lightgbm</th>\n",
       "      <td id=\"T_92475_row2_col0\" class=\"data row2 col0\" >Light Gradient Boosting Machine</td>\n",
       "      <td id=\"T_92475_row2_col1\" class=\"data row2 col1\" >0.9331</td>\n",
       "      <td id=\"T_92475_row2_col2\" class=\"data row2 col2\" >0.9727</td>\n",
       "      <td id=\"T_92475_row2_col3\" class=\"data row2 col3\" >0.9406</td>\n",
       "      <td id=\"T_92475_row2_col4\" class=\"data row2 col4\" >0.9366</td>\n",
       "      <td id=\"T_92475_row2_col5\" class=\"data row2 col5\" >0.9373</td>\n",
       "      <td id=\"T_92475_row2_col6\" class=\"data row2 col6\" >0.8654</td>\n",
       "      <td id=\"T_92475_row2_col7\" class=\"data row2 col7\" >0.8682</td>\n",
       "      <td id=\"T_92475_row2_col8\" class=\"data row2 col8\" >0.0730</td>\n",
       "    </tr>\n",
       "    <tr>\n",
       "      <th id=\"T_92475_level0_row3\" class=\"row_heading level0 row3\" >xgboost</th>\n",
       "      <td id=\"T_92475_row3_col0\" class=\"data row3 col0\" >Extreme Gradient Boosting</td>\n",
       "      <td id=\"T_92475_row3_col1\" class=\"data row3 col1\" >0.9330</td>\n",
       "      <td id=\"T_92475_row3_col2\" class=\"data row3 col2\" >0.9705</td>\n",
       "      <td id=\"T_92475_row3_col3\" class=\"data row3 col3\" >0.9441</td>\n",
       "      <td id=\"T_92475_row3_col4\" class=\"data row3 col4\" >0.9339</td>\n",
       "      <td id=\"T_92475_row3_col5\" class=\"data row3 col5\" >0.9375</td>\n",
       "      <td id=\"T_92475_row3_col6\" class=\"data row3 col6\" >0.8653</td>\n",
       "      <td id=\"T_92475_row3_col7\" class=\"data row3 col7\" >0.8686</td>\n",
       "      <td id=\"T_92475_row3_col8\" class=\"data row3 col8\" >0.0260</td>\n",
       "    </tr>\n",
       "    <tr>\n",
       "      <th id=\"T_92475_level0_row4\" class=\"row_heading level0 row4\" >dt</th>\n",
       "      <td id=\"T_92475_row4_col0\" class=\"data row4 col0\" >Decision Tree Classifier</td>\n",
       "      <td id=\"T_92475_row4_col1\" class=\"data row4 col1\" >0.9312</td>\n",
       "      <td id=\"T_92475_row4_col2\" class=\"data row4 col2\" >0.9301</td>\n",
       "      <td id=\"T_92475_row4_col3\" class=\"data row4 col3\" >0.9479</td>\n",
       "      <td id=\"T_92475_row4_col4\" class=\"data row4 col4\" >0.9274</td>\n",
       "      <td id=\"T_92475_row4_col5\" class=\"data row4 col5\" >0.9359</td>\n",
       "      <td id=\"T_92475_row4_col6\" class=\"data row4 col6\" >0.8616</td>\n",
       "      <td id=\"T_92475_row4_col7\" class=\"data row4 col7\" >0.8653</td>\n",
       "      <td id=\"T_92475_row4_col8\" class=\"data row4 col8\" >0.0050</td>\n",
       "    </tr>\n",
       "    <tr>\n",
       "      <th id=\"T_92475_level0_row5\" class=\"row_heading level0 row5\" >gbc</th>\n",
       "      <td id=\"T_92475_row5_col0\" class=\"data row5 col0\" >Gradient Boosting Classifier</td>\n",
       "      <td id=\"T_92475_row5_col1\" class=\"data row5 col1\" >0.9256</td>\n",
       "      <td id=\"T_92475_row5_col2\" class=\"data row5 col2\" >0.9685</td>\n",
       "      <td id=\"T_92475_row5_col3\" class=\"data row5 col3\" >0.9337</td>\n",
       "      <td id=\"T_92475_row5_col4\" class=\"data row5 col4\" >0.9299</td>\n",
       "      <td id=\"T_92475_row5_col5\" class=\"data row5 col5\" >0.9303</td>\n",
       "      <td id=\"T_92475_row5_col6\" class=\"data row5 col6\" >0.8505</td>\n",
       "      <td id=\"T_92475_row5_col7\" class=\"data row5 col7\" >0.8537</td>\n",
       "      <td id=\"T_92475_row5_col8\" class=\"data row5 col8\" >0.0160</td>\n",
       "    </tr>\n",
       "    <tr>\n",
       "      <th id=\"T_92475_level0_row6\" class=\"row_heading level0 row6\" >ada</th>\n",
       "      <td id=\"T_92475_row6_col0\" class=\"data row6 col0\" >Ada Boost Classifier</td>\n",
       "      <td id=\"T_92475_row6_col1\" class=\"data row6 col1\" >0.8827</td>\n",
       "      <td id=\"T_92475_row6_col2\" class=\"data row6 col2\" >0.9458</td>\n",
       "      <td id=\"T_92475_row6_col3\" class=\"data row6 col3\" >0.8985</td>\n",
       "      <td id=\"T_92475_row6_col4\" class=\"data row6 col4\" >0.8838</td>\n",
       "      <td id=\"T_92475_row6_col5\" class=\"data row6 col5\" >0.8899</td>\n",
       "      <td id=\"T_92475_row6_col6\" class=\"data row6 col6\" >0.7643</td>\n",
       "      <td id=\"T_92475_row6_col7\" class=\"data row6 col7\" >0.7668</td>\n",
       "      <td id=\"T_92475_row6_col8\" class=\"data row6 col8\" >0.0130</td>\n",
       "    </tr>\n",
       "    <tr>\n",
       "      <th id=\"T_92475_level0_row7\" class=\"row_heading level0 row7\" >lr</th>\n",
       "      <td id=\"T_92475_row7_col0\" class=\"data row7 col0\" >Logistic Regression</td>\n",
       "      <td id=\"T_92475_row7_col1\" class=\"data row7 col1\" >0.8399</td>\n",
       "      <td id=\"T_92475_row7_col2\" class=\"data row7 col2\" >0.9160</td>\n",
       "      <td id=\"T_92475_row7_col3\" class=\"data row7 col3\" >0.8951</td>\n",
       "      <td id=\"T_92475_row7_col4\" class=\"data row7 col4\" >0.8225</td>\n",
       "      <td id=\"T_92475_row7_col5\" class=\"data row7 col5\" >0.8560</td>\n",
       "      <td id=\"T_92475_row7_col6\" class=\"data row7 col6\" >0.6765</td>\n",
       "      <td id=\"T_92475_row7_col7\" class=\"data row7 col7\" >0.6825</td>\n",
       "      <td id=\"T_92475_row7_col8\" class=\"data row7 col8\" >0.0140</td>\n",
       "    </tr>\n",
       "    <tr>\n",
       "      <th id=\"T_92475_level0_row8\" class=\"row_heading level0 row8\" >ridge</th>\n",
       "      <td id=\"T_92475_row8_col0\" class=\"data row8 col0\" >Ridge Classifier</td>\n",
       "      <td id=\"T_92475_row8_col1\" class=\"data row8 col1\" >0.8344</td>\n",
       "      <td id=\"T_92475_row8_col2\" class=\"data row8 col2\" >0.9158</td>\n",
       "      <td id=\"T_92475_row8_col3\" class=\"data row8 col3\" >0.9092</td>\n",
       "      <td id=\"T_92475_row8_col4\" class=\"data row8 col4\" >0.8071</td>\n",
       "      <td id=\"T_92475_row8_col5\" class=\"data row8 col5\" >0.8538</td>\n",
       "      <td id=\"T_92475_row8_col6\" class=\"data row8 col6\" >0.6643</td>\n",
       "      <td id=\"T_92475_row8_col7\" class=\"data row8 col7\" >0.6738</td>\n",
       "      <td id=\"T_92475_row8_col8\" class=\"data row8 col8\" >0.0070</td>\n",
       "    </tr>\n",
       "    <tr>\n",
       "      <th id=\"T_92475_level0_row9\" class=\"row_heading level0 row9\" >lda</th>\n",
       "      <td id=\"T_92475_row9_col0\" class=\"data row9 col0\" >Linear Discriminant Analysis</td>\n",
       "      <td id=\"T_92475_row9_col1\" class=\"data row9 col1\" >0.8344</td>\n",
       "      <td id=\"T_92475_row9_col2\" class=\"data row9 col2\" >0.9158</td>\n",
       "      <td id=\"T_92475_row9_col3\" class=\"data row9 col3\" >0.9092</td>\n",
       "      <td id=\"T_92475_row9_col4\" class=\"data row9 col4\" >0.8071</td>\n",
       "      <td id=\"T_92475_row9_col5\" class=\"data row9 col5\" >0.8538</td>\n",
       "      <td id=\"T_92475_row9_col6\" class=\"data row9 col6\" >0.6643</td>\n",
       "      <td id=\"T_92475_row9_col7\" class=\"data row9 col7\" >0.6738</td>\n",
       "      <td id=\"T_92475_row9_col8\" class=\"data row9 col8\" >0.0050</td>\n",
       "    </tr>\n",
       "    <tr>\n",
       "      <th id=\"T_92475_level0_row10\" class=\"row_heading level0 row10\" >nb</th>\n",
       "      <td id=\"T_92475_row10_col0\" class=\"data row10 col0\" >Naive Bayes</td>\n",
       "      <td id=\"T_92475_row10_col1\" class=\"data row10 col1\" >0.8232</td>\n",
       "      <td id=\"T_92475_row10_col2\" class=\"data row10 col2\" >0.9079</td>\n",
       "      <td id=\"T_92475_row10_col3\" class=\"data row10 col3\" >0.8569</td>\n",
       "      <td id=\"T_92475_row10_col4\" class=\"data row10 col4\" >0.8221</td>\n",
       "      <td id=\"T_92475_row10_col5\" class=\"data row10 col5\" >0.8365</td>\n",
       "      <td id=\"T_92475_row10_col6\" class=\"data row10 col6\" >0.6440</td>\n",
       "      <td id=\"T_92475_row10_col7\" class=\"data row10 col7\" >0.6491</td>\n",
       "      <td id=\"T_92475_row10_col8\" class=\"data row10 col8\" >0.0050</td>\n",
       "    </tr>\n",
       "    <tr>\n",
       "      <th id=\"T_92475_level0_row11\" class=\"row_heading level0 row11\" >qda</th>\n",
       "      <td id=\"T_92475_row11_col0\" class=\"data row11 col0\" >Quadratic Discriminant Analysis</td>\n",
       "      <td id=\"T_92475_row11_col1\" class=\"data row11 col1\" >0.8195</td>\n",
       "      <td id=\"T_92475_row11_col2\" class=\"data row11 col2\" >0.9191</td>\n",
       "      <td id=\"T_92475_row11_col3\" class=\"data row11 col3\" >0.8320</td>\n",
       "      <td id=\"T_92475_row11_col4\" class=\"data row11 col4\" >0.8296</td>\n",
       "      <td id=\"T_92475_row11_col5\" class=\"data row11 col5\" >0.8293</td>\n",
       "      <td id=\"T_92475_row11_col6\" class=\"data row11 col6\" >0.6378</td>\n",
       "      <td id=\"T_92475_row11_col7\" class=\"data row11 col7\" >0.6399</td>\n",
       "      <td id=\"T_92475_row11_col8\" class=\"data row11 col8\" >0.0040</td>\n",
       "    </tr>\n",
       "    <tr>\n",
       "      <th id=\"T_92475_level0_row12\" class=\"row_heading level0 row12\" >knn</th>\n",
       "      <td id=\"T_92475_row12_col0\" class=\"data row12 col0\" >K Neighbors Classifier</td>\n",
       "      <td id=\"T_92475_row12_col1\" class=\"data row12 col1\" >0.6982</td>\n",
       "      <td id=\"T_92475_row12_col2\" class=\"data row12 col2\" >0.7878</td>\n",
       "      <td id=\"T_92475_row12_col3\" class=\"data row12 col3\" >0.7244</td>\n",
       "      <td id=\"T_92475_row12_col4\" class=\"data row12 col4\" >0.7169</td>\n",
       "      <td id=\"T_92475_row12_col5\" class=\"data row12 col5\" >0.7171</td>\n",
       "      <td id=\"T_92475_row12_col6\" class=\"data row12 col6\" >0.3937</td>\n",
       "      <td id=\"T_92475_row12_col7\" class=\"data row12 col7\" >0.3986</td>\n",
       "      <td id=\"T_92475_row12_col8\" class=\"data row12 col8\" >0.0120</td>\n",
       "    </tr>\n",
       "    <tr>\n",
       "      <th id=\"T_92475_level0_row13\" class=\"row_heading level0 row13\" >svm</th>\n",
       "      <td id=\"T_92475_row13_col0\" class=\"data row13 col0\" >SVM - Linear Kernel</td>\n",
       "      <td id=\"T_92475_row13_col1\" class=\"data row13 col1\" >0.6515</td>\n",
       "      <td id=\"T_92475_row13_col2\" class=\"data row13 col2\" >0.8164</td>\n",
       "      <td id=\"T_92475_row13_col3\" class=\"data row13 col3\" >0.6855</td>\n",
       "      <td id=\"T_92475_row13_col4\" class=\"data row13 col4\" >0.7285</td>\n",
       "      <td id=\"T_92475_row13_col5\" class=\"data row13 col5\" >0.6202</td>\n",
       "      <td id=\"T_92475_row13_col6\" class=\"data row13 col6\" >0.3024</td>\n",
       "      <td id=\"T_92475_row13_col7\" class=\"data row13 col7\" >0.3526</td>\n",
       "      <td id=\"T_92475_row13_col8\" class=\"data row13 col8\" >0.0040</td>\n",
       "    </tr>\n",
       "    <tr>\n",
       "      <th id=\"T_92475_level0_row14\" class=\"row_heading level0 row14\" >dummy</th>\n",
       "      <td id=\"T_92475_row14_col0\" class=\"data row14 col0\" >Dummy Classifier</td>\n",
       "      <td id=\"T_92475_row14_col1\" class=\"data row14 col1\" >0.5326</td>\n",
       "      <td id=\"T_92475_row14_col2\" class=\"data row14 col2\" >0.5000</td>\n",
       "      <td id=\"T_92475_row14_col3\" class=\"data row14 col3\" >1.0000</td>\n",
       "      <td id=\"T_92475_row14_col4\" class=\"data row14 col4\" >0.5326</td>\n",
       "      <td id=\"T_92475_row14_col5\" class=\"data row14 col5\" >0.6950</td>\n",
       "      <td id=\"T_92475_row14_col6\" class=\"data row14 col6\" >0.0000</td>\n",
       "      <td id=\"T_92475_row14_col7\" class=\"data row14 col7\" >0.0000</td>\n",
       "      <td id=\"T_92475_row14_col8\" class=\"data row14 col8\" >0.0060</td>\n",
       "    </tr>\n",
       "  </tbody>\n",
       "</table>\n"
      ],
      "text/plain": [
       "<pandas.io.formats.style.Styler at 0x257e437faf0>"
      ]
     },
     "metadata": {},
     "output_type": "display_data"
    },
    {
     "data": {
      "text/html": [],
      "text/plain": [
       "<IPython.core.display.HTML object>"
      ]
     },
     "metadata": {},
     "output_type": "display_data"
    }
   ],
   "source": [
    "model=compare_models()\n"
   ]
  },
  {
   "cell_type": "code",
   "execution_count": 255,
   "metadata": {},
   "outputs": [
    {
     "name": "stdout",
     "output_type": "stream",
     "text": [
      "Accuracy: 0.9766536964980544\n"
     ]
    }
   ],
   "source": [
    "y_pred =model.predict(X_test)\n",
    "accuracy=accuracy_score(y_test,y_pred)\n",
    "print(f'Accuracy: {accuracy}')"
   ]
  },
  {
   "cell_type": "code",
   "execution_count": 256,
   "metadata": {},
   "outputs": [
    {
     "name": "stdout",
     "output_type": "stream",
     "text": [
      "              precision    recall  f1-score   support\n",
      "\n",
      "           0       0.98      0.98      0.98       140\n",
      "           1       0.97      0.97      0.97       117\n",
      "\n",
      "    accuracy                           0.98       257\n",
      "   macro avg       0.98      0.98      0.98       257\n",
      "weighted avg       0.98      0.98      0.98       257\n",
      "\n"
     ]
    }
   ],
   "source": [
    "print(classification_report(y_test, y_pred))"
   ]
  },
  {
   "cell_type": "code",
   "execution_count": 257,
   "metadata": {},
   "outputs": [
    {
     "data": {
      "image/png": "[encoded data removed]",
      "text/plain": [
       "<Figure size 800x550 with 2 Axes>"
      ]
     },
     "metadata": {},
     "output_type": "display_data"
    }
   ],
   "source": [
    "import matplotlib.pyplot as plt\n",
    "import seaborn as sns\n",
    "# Plot confusion matrix\n",
    "conf_matrix=confusion_matrix(y_test, y_pred)\n",
    "sns.heatmap(conf_matrix, annot=True, fmt='d', cmap='Blues')\n",
    "plt.xlabel('Predicted')\n",
    "plt.ylabel('True')\n",
    "plt.title('Confusion Matrix')\n",
    "plt.show()"
   ]
  },
  {
   "cell_type": "code",
   "execution_count": 258,
   "metadata": {},
   "outputs": [
    {
     "name": "stdout",
     "output_type": "stream",
     "text": [
      "API successfully created. This function only creates a POST API, it doesn't run it automatically. To run your API, please run this command --> !python api.py\n"
     ]
    }
   ],
   "source": [
    "create_api(model,api_name='api')"
   ]
  }
 ],
 "metadata": {
  "kernelspec": {
   "display_name": "myenv",
   "language": "python",
   "name": "python3"
  },
  "language_info": {
   "codemirror_mode": {
    "name": "ipython",
    "version": 3
   },
   "file_extension": ".py",
   "mimetype": "text/x-python",
   "name": "python",
   "nbconvert_exporter": "python",
   "pygments_lexer": "ipython3",
   "version": "3.9.0"
  }
 },
 "nbformat": 4,
 "nbformat_minor": 2
}
